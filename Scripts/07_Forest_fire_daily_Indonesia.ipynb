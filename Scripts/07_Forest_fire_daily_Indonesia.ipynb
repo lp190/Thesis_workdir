{
 "cells": [
  {
   "cell_type": "markdown",
   "metadata": {},
   "source": [
    "\n",
    "# Project Master's Thesis: Forest Fire on Socioeconomic Outcomes in Indonesia\n",
    "## Author: Lokesh Pandey\n",
    "### Date: 05.02.2025\n"
   ]
  },
  {
   "cell_type": "markdown",
   "metadata": {},
   "source": [
    "## Working with daily burned areas in Indonesia to create hysplit smoke emitting points"
   ]
  },
  {
   "cell_type": "code",
   "execution_count": 1,
   "metadata": {},
   "outputs": [],
   "source": [
    "import os\n",
    "import geopandas as gpd\n",
    "import pandas as pd  "
   ]
  },
  {
   "cell_type": "markdown",
   "metadata": {},
   "source": [
    "Copying all the .shape files in a folder named **all_daily**."
   ]
  },
  {
   "cell_type": "code",
   "execution_count": 3,
   "metadata": {},
   "outputs": [],
   "source": [
    "# Load forest fire data in Indonesia\n",
    "indonesia_fire = gpd.read_file(\"../../Data/GWIS_2021_Daily/Indonesia_daily/combined/combined_fires_indonesia.shp\")"
   ]
  },
  {
   "cell_type": "code",
   "execution_count": 5,
   "metadata": {},
   "outputs": [
    {
     "data": {
      "text/plain": [
       "(650077, 6)"
      ]
     },
     "execution_count": 5,
     "metadata": {},
     "output_type": "execute_result"
    }
   ],
   "source": [
    "# Explore\n",
    "## rows and columns\n",
    "indonesia_fire.shape # (650077, 6)"
   ]
  },
  {
   "cell_type": "code",
   "execution_count": 6,
   "metadata": {},
   "outputs": [
    {
     "data": {
      "text/html": [
       "<div>\n",
       "<style scoped>\n",
       "    .dataframe tbody tr th:only-of-type {\n",
       "        vertical-align: middle;\n",
       "    }\n",
       "\n",
       "    .dataframe tbody tr th {\n",
       "        vertical-align: top;\n",
       "    }\n",
       "\n",
       "    .dataframe thead th {\n",
       "        text-align: right;\n",
       "    }\n",
       "</style>\n",
       "<table border=\"1\" class=\"dataframe\">\n",
       "  <thead>\n",
       "    <tr style=\"text-align: right;\">\n",
       "      <th></th>\n",
       "      <th>Id</th>\n",
       "      <th>IDate</th>\n",
       "      <th>index_righ</th>\n",
       "      <th>GID_0</th>\n",
       "      <th>COUNTRY</th>\n",
       "      <th>geometry</th>\n",
       "    </tr>\n",
       "  </thead>\n",
       "  <tbody>\n",
       "    <tr>\n",
       "      <th>0</th>\n",
       "      <td>1335016</td>\n",
       "      <td>2001-08-31</td>\n",
       "      <td>0</td>\n",
       "      <td>IDN</td>\n",
       "      <td>Indonesia</td>\n",
       "      <td>POLYGON ((114.41151 -3.30833, 114.41568 -3.308...</td>\n",
       "    </tr>\n",
       "    <tr>\n",
       "      <th>1</th>\n",
       "      <td>1335016</td>\n",
       "      <td>2001-08-29</td>\n",
       "      <td>0</td>\n",
       "      <td>IDN</td>\n",
       "      <td>Indonesia</td>\n",
       "      <td>POLYGON ((114.41199 -3.3125, 114.41616 -3.3125...</td>\n",
       "    </tr>\n",
       "    <tr>\n",
       "      <th>2</th>\n",
       "      <td>1335016</td>\n",
       "      <td>2001-09-11</td>\n",
       "      <td>0</td>\n",
       "      <td>IDN</td>\n",
       "      <td>Indonesia</td>\n",
       "      <td>POLYGON ((114.37203 -3.29167, 114.3762 -3.2916...</td>\n",
       "    </tr>\n",
       "    <tr>\n",
       "      <th>3</th>\n",
       "      <td>1335016</td>\n",
       "      <td>2001-09-08</td>\n",
       "      <td>0</td>\n",
       "      <td>IDN</td>\n",
       "      <td>Indonesia</td>\n",
       "      <td>POLYGON ((114.3762 -3.29167, 114.38037 -3.2916...</td>\n",
       "    </tr>\n",
       "    <tr>\n",
       "      <th>4</th>\n",
       "      <td>1335016</td>\n",
       "      <td>2001-09-18</td>\n",
       "      <td>0</td>\n",
       "      <td>IDN</td>\n",
       "      <td>Indonesia</td>\n",
       "      <td>POLYGON ((114.38037 -3.29167, 114.38455 -3.291...</td>\n",
       "    </tr>\n",
       "    <tr>\n",
       "      <th>...</th>\n",
       "      <td>...</td>\n",
       "      <td>...</td>\n",
       "      <td>...</td>\n",
       "      <td>...</td>\n",
       "      <td>...</td>\n",
       "      <td>...</td>\n",
       "    </tr>\n",
       "    <tr>\n",
       "      <th>650072</th>\n",
       "      <td>5156041</td>\n",
       "      <td>2004-09-10</td>\n",
       "      <td>0</td>\n",
       "      <td>IDN</td>\n",
       "      <td>Indonesia</td>\n",
       "      <td>POLYGON ((140.97072 -8.89583, 140.97916 -8.895...</td>\n",
       "    </tr>\n",
       "    <tr>\n",
       "      <th>650073</th>\n",
       "      <td>5156042</td>\n",
       "      <td>2004-09-04</td>\n",
       "      <td>0</td>\n",
       "      <td>IDN</td>\n",
       "      <td>Indonesia</td>\n",
       "      <td>POLYGON ((140.97333 -8.89167, 140.97755 -8.891...</td>\n",
       "    </tr>\n",
       "    <tr>\n",
       "      <th>650074</th>\n",
       "      <td>5156045</td>\n",
       "      <td>2004-09-04</td>\n",
       "      <td>0</td>\n",
       "      <td>IDN</td>\n",
       "      <td>Indonesia</td>\n",
       "      <td>POLYGON ((140.95245 -8.925, 140.95667 -8.925, ...</td>\n",
       "    </tr>\n",
       "    <tr>\n",
       "      <th>650075</th>\n",
       "      <td>5156045</td>\n",
       "      <td>2004-09-02</td>\n",
       "      <td>0</td>\n",
       "      <td>IDN</td>\n",
       "      <td>Indonesia</td>\n",
       "      <td>POLYGON ((140.95667 -8.925, 140.96088 -8.925, ...</td>\n",
       "    </tr>\n",
       "    <tr>\n",
       "      <th>650076</th>\n",
       "      <td>5156045</td>\n",
       "      <td>2004-09-08</td>\n",
       "      <td>0</td>\n",
       "      <td>IDN</td>\n",
       "      <td>Indonesia</td>\n",
       "      <td>POLYGON ((140.95406 -8.92917, 140.95828 -8.929...</td>\n",
       "    </tr>\n",
       "  </tbody>\n",
       "</table>\n",
       "<p>650077 rows × 6 columns</p>\n",
       "</div>"
      ],
      "text/plain": [
       "             Id      IDate  index_righ GID_0    COUNTRY  \\\n",
       "0       1335016 2001-08-31           0   IDN  Indonesia   \n",
       "1       1335016 2001-08-29           0   IDN  Indonesia   \n",
       "2       1335016 2001-09-11           0   IDN  Indonesia   \n",
       "3       1335016 2001-09-08           0   IDN  Indonesia   \n",
       "4       1335016 2001-09-18           0   IDN  Indonesia   \n",
       "...         ...        ...         ...   ...        ...   \n",
       "650072  5156041 2004-09-10           0   IDN  Indonesia   \n",
       "650073  5156042 2004-09-04           0   IDN  Indonesia   \n",
       "650074  5156045 2004-09-04           0   IDN  Indonesia   \n",
       "650075  5156045 2004-09-02           0   IDN  Indonesia   \n",
       "650076  5156045 2004-09-08           0   IDN  Indonesia   \n",
       "\n",
       "                                                 geometry  \n",
       "0       POLYGON ((114.41151 -3.30833, 114.41568 -3.308...  \n",
       "1       POLYGON ((114.41199 -3.3125, 114.41616 -3.3125...  \n",
       "2       POLYGON ((114.37203 -3.29167, 114.3762 -3.2916...  \n",
       "3       POLYGON ((114.3762 -3.29167, 114.38037 -3.2916...  \n",
       "4       POLYGON ((114.38037 -3.29167, 114.38455 -3.291...  \n",
       "...                                                   ...  \n",
       "650072  POLYGON ((140.97072 -8.89583, 140.97916 -8.895...  \n",
       "650073  POLYGON ((140.97333 -8.89167, 140.97755 -8.891...  \n",
       "650074  POLYGON ((140.95245 -8.925, 140.95667 -8.925, ...  \n",
       "650075  POLYGON ((140.95667 -8.925, 140.96088 -8.925, ...  \n",
       "650076  POLYGON ((140.95406 -8.92917, 140.95828 -8.929...  \n",
       "\n",
       "[650077 rows x 6 columns]"
      ]
     },
     "execution_count": 6,
     "metadata": {},
     "output_type": "execute_result"
    }
   ],
   "source": [
    "indonesia_fire"
   ]
  },
  {
   "cell_type": "markdown",
   "metadata": {},
   "source": [
    "Forest fire with ```ID: 11011475``` is the largest wildfire according to the area it damaged as explored from the ESRI final area dataset with 51 days of fire and burning area of 1025771517 hectares (maybe?). Let's explore the area damaged by it."
   ]
  },
  {
   "cell_type": "code",
   "execution_count": 10,
   "metadata": {},
   "outputs": [],
   "source": [
    "# Filter observation for ID 11011475\n",
    "fire_event = indonesia_fire[indonesia_fire['Id'] == 11011475]"
   ]
  },
  {
   "cell_type": "code",
   "execution_count": 11,
   "metadata": {},
   "outputs": [
    {
     "data": {
      "text/html": [
       "<div>\n",
       "<style scoped>\n",
       "    .dataframe tbody tr th:only-of-type {\n",
       "        vertical-align: middle;\n",
       "    }\n",
       "\n",
       "    .dataframe tbody tr th {\n",
       "        vertical-align: top;\n",
       "    }\n",
       "\n",
       "    .dataframe thead th {\n",
       "        text-align: right;\n",
       "    }\n",
       "</style>\n",
       "<table border=\"1\" class=\"dataframe\">\n",
       "  <thead>\n",
       "    <tr style=\"text-align: right;\">\n",
       "      <th></th>\n",
       "      <th>Id</th>\n",
       "      <th>IDate</th>\n",
       "      <th>index_righ</th>\n",
       "      <th>GID_0</th>\n",
       "      <th>COUNTRY</th>\n",
       "      <th>geometry</th>\n",
       "    </tr>\n",
       "  </thead>\n",
       "  <tbody>\n",
       "  </tbody>\n",
       "</table>\n",
       "</div>"
      ],
      "text/plain": [
       "Empty GeoDataFrame\n",
       "Columns: [Id, IDate, index_righ, GID_0, COUNTRY, geometry]\n",
       "Index: []"
      ]
     },
     "execution_count": 11,
     "metadata": {},
     "output_type": "execute_result"
    }
   ],
   "source": [
    "fire_event"
   ]
  },
  {
   "cell_type": "code",
   "execution_count": null,
   "metadata": {},
   "outputs": [],
   "source": [
    "# Path to the Indonesia shape file\n",
    "indo_path = \"../../Data/gadm41_IDN_shp/gadm41_IDN_0.shp\"\n",
    "\n",
    "# Load the shape file into a GeoDataFrame\n",
    "indo_gdf = gpd.read_file(indo_path)\n",
    "\n",
    "# plot the country\n",
    "indo_gdf.plot(edgecolor = \"black\", figsize = (10,10), cmap = \"Set3\")"
   ]
  },
  {
   "cell_type": "code",
   "execution_count": null,
   "metadata": {},
   "outputs": [],
   "source": []
  },
  {
   "cell_type": "markdown",
   "metadata": {},
   "source": []
  },
  {
   "cell_type": "code",
   "execution_count": null,
   "metadata": {},
   "outputs": [],
   "source": []
  },
  {
   "cell_type": "code",
   "execution_count": null,
   "metadata": {},
   "outputs": [],
   "source": []
  },
  {
   "cell_type": "markdown",
   "metadata": {},
   "source": []
  },
  {
   "cell_type": "markdown",
   "metadata": {},
   "source": []
  },
  {
   "cell_type": "markdown",
   "metadata": {},
   "source": []
  }
 ],
 "metadata": {
  "kernelspec": {
   "display_name": "Python 3",
   "language": "python",
   "name": "python3"
  },
  "language_info": {
   "codemirror_mode": {
    "name": "ipython",
    "version": 3
   },
   "file_extension": ".py",
   "mimetype": "text/x-python",
   "name": "python",
   "nbconvert_exporter": "python",
   "pygments_lexer": "ipython3",
   "version": "3.13.0"
  }
 },
 "nbformat": 4,
 "nbformat_minor": 2
}
