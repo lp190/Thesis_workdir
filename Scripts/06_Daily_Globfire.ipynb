{
 "cells": [
  {
   "cell_type": "markdown",
   "metadata": {},
   "source": [
    "# Forest Fire Daily Areas FIltering For Indonesia"
   ]
  },
  {
   "cell_type": "code",
   "execution_count": 1,
   "metadata": {},
   "outputs": [],
   "source": [
    "import os\n",
    "import glob\n",
    "import geopandas as gpd\n",
    "import pandas as pd  # Ensure pandas is imported\n",
    "import shutil\n",
    "from multiprocessing import Pool, cpu_count\n"
   ]
  },
  {
   "cell_type": "markdown",
   "metadata": {},
   "source": [
    "Copying all the .shape files in a folder named final_all_shapefiles. "
   ]
  },
  {
   "cell_type": "code",
   "execution_count": 2,
   "metadata": {},
   "outputs": [
    {
     "name": "stdout",
     "output_type": "stream",
     "text": [
      "Skipping: GWIS_2021/Daily/all_daily/Daily_GlobFirev3_GWIS_MCD64A1__2000.prj (Already exists in destination directory)\n",
      "Skipping: GWIS_2021/Daily/all_daily/Daily_GlobFirev3_GWIS_MCD64A1__2019.dbf (Already exists in destination directory)\n",
      "Skipping: GWIS_2021/Daily/all_daily/Daily_GlobFirev3_GWIS_MCD64A1__2018.dbf (Already exists in destination directory)\n",
      "Skipping: GWIS_2021/Daily/all_daily/Daily_GlobFirev3_GWIS_MCD64A1__2001.prj (Already exists in destination directory)\n",
      "Skipping: GWIS_2021/Daily/all_daily/Daily_GlobFirev3_GWIS_MCD64A1__2003.prj (Already exists in destination directory)\n",
      "Skipping: GWIS_2021/Daily/all_daily/Daily_GlobFirev3_GWIS_MCD64A1__2017.prj (Already exists in destination directory)\n",
      "Skipping: GWIS_2021/Daily/all_daily/Daily_GlobFirev3_GWIS_MCD64A1__2016.prj (Already exists in destination directory)\n",
      "Skipping: GWIS_2021/Daily/all_daily/Daily_GlobFirev3_GWIS_MCD64A1__2002.prj (Already exists in destination directory)\n",
      "Skipping: GWIS_2021/Daily/all_daily/Daily_GlobFirev3_GWIS_MCD64A1__2006.prj (Already exists in destination directory)\n",
      "Skipping: GWIS_2021/Daily/all_daily/Daily_GlobFirev3_GWIS_MCD64A1__2007.prj (Already exists in destination directory)\n",
      "Skipping: GWIS_2021/Daily/all_daily/Daily_GlobFirev3_GWIS_MCD64A1__2011.prj (Already exists in destination directory)\n",
      "Skipping: GWIS_2021/Daily/all_daily/Daily_GlobFirev3_GWIS_MCD64A1__2005.prj (Already exists in destination directory)\n",
      "Skipping: GWIS_2021/Daily/all_daily/Daily_GlobFirev3_GWIS_MCD64A1__2008.dbf (Already exists in destination directory)\n",
      "Skipping: GWIS_2021/Daily/all_daily/Daily_GlobFirev3_GWIS_MCD64A1__2020.dbf (Already exists in destination directory)\n",
      "Skipping: GWIS_2021/Daily/all_daily/Daily_GlobFirev3_GWIS_MCD64A1__2021.dbf (Already exists in destination directory)\n",
      "Skipping: GWIS_2021/Daily/all_daily/Daily_GlobFirev3_GWIS_MCD64A1__2009.dbf (Already exists in destination directory)\n",
      "Skipping: GWIS_2021/Daily/all_daily/Daily_GlobFirev3_GWIS_MCD64A1__2004.prj (Already exists in destination directory)\n",
      "Skipping: GWIS_2021/Daily/all_daily/Daily_GlobFirev3_GWIS_MCD64A1__2010.prj (Already exists in destination directory)\n",
      "Skipping: GWIS_2021/Daily/all_daily/Daily_GlobFirev3_GWIS_MCD64A1__2009.shp (Already exists in destination directory)\n",
      "Skipping: GWIS_2021/Daily/all_daily/Daily_GlobFirev3_GWIS_MCD64A1__2021.shp (Already exists in destination directory)\n",
      "Skipping: GWIS_2021/Daily/all_daily/Daily_GlobFirev3_GWIS_MCD64A1__2020.shp (Already exists in destination directory)\n",
      "Skipping: GWIS_2021/Daily/all_daily/Daily_GlobFirev3_GWIS_MCD64A1__2008.shp (Already exists in destination directory)\n",
      "Skipping: GWIS_2021/Daily/all_daily/Daily_GlobFirev3_GWIS_MCD64A1__2021.shx (Already exists in destination directory)\n",
      "Skipping: GWIS_2021/Daily/all_daily/Daily_GlobFirev3_GWIS_MCD64A1__2009.shx (Already exists in destination directory)\n",
      "Skipping: GWIS_2021/Daily/all_daily/Daily_GlobFirev3_GWIS_MCD64A1__2008.shx (Already exists in destination directory)\n",
      "Skipping: GWIS_2021/Daily/all_daily/Daily_GlobFirev3_GWIS_MCD64A1__2020.shx (Already exists in destination directory)\n",
      "Skipping: GWIS_2021/Daily/all_daily/Daily_GlobFirev3_GWIS_MCD64A1__2018.shx (Already exists in destination directory)\n",
      "Skipping: GWIS_2021/Daily/all_daily/Daily_GlobFirev3_GWIS_MCD64A1__2019.shx (Already exists in destination directory)\n",
      "Skipping: GWIS_2021/Daily/all_daily/Daily_GlobFirev3_GWIS_MCD64A1__2018.shp (Already exists in destination directory)\n",
      "Skipping: GWIS_2021/Daily/all_daily/Daily_GlobFirev3_GWIS_MCD64A1__2019.shp (Already exists in destination directory)\n",
      "Skipping: GWIS_2021/Daily/all_daily/Daily_GlobFirev3_GWIS_MCD64A1__2000.shp (Already exists in destination directory)\n",
      "Skipping: GWIS_2021/Daily/all_daily/Daily_GlobFirev3_GWIS_MCD64A1__2017.shx (Already exists in destination directory)\n",
      "Skipping: GWIS_2021/Daily/all_daily/Daily_GlobFirev3_GWIS_MCD64A1__2003.shx (Already exists in destination directory)\n",
      "Skipping: GWIS_2021/Daily/all_daily/Daily_GlobFirev3_GWIS_MCD64A1__2002.shx (Already exists in destination directory)\n",
      "Skipping: GWIS_2021/Daily/all_daily/Daily_GlobFirev3_GWIS_MCD64A1__2016.shx (Already exists in destination directory)\n",
      "Skipping: GWIS_2021/Daily/all_daily/Daily_GlobFirev3_GWIS_MCD64A1__2001.shp (Already exists in destination directory)\n",
      "Skipping: GWIS_2021/Daily/all_daily/Daily_GlobFirev3_GWIS_MCD64A1__2017.shp (Already exists in destination directory)\n",
      "Skipping: GWIS_2021/Daily/all_daily/Daily_GlobFirev3_GWIS_MCD64A1__2003.shp (Already exists in destination directory)\n",
      "Skipping: GWIS_2021/Daily/all_daily/Daily_GlobFirev3_GWIS_MCD64A1__2000.shx (Already exists in destination directory)\n",
      "Skipping: GWIS_2021/Daily/all_daily/Daily_GlobFirev3_GWIS_MCD64A1__2001.shx (Already exists in destination directory)\n",
      "Skipping: GWIS_2021/Daily/all_daily/Daily_GlobFirev3_GWIS_MCD64A1__2002.shp (Already exists in destination directory)\n",
      "Skipping: GWIS_2021/Daily/all_daily/Daily_GlobFirev3_GWIS_MCD64A1__2016.shp (Already exists in destination directory)\n",
      "Skipping: GWIS_2021/Daily/all_daily/Daily_GlobFirev3_GWIS_MCD64A1__2006.shp (Already exists in destination directory)\n",
      "Skipping: GWIS_2021/Daily/all_daily/Daily_GlobFirev3_GWIS_MCD64A1__2005.shx (Already exists in destination directory)\n",
      "Skipping: GWIS_2021/Daily/all_daily/Daily_GlobFirev3_GWIS_MCD64A1__2011.shx (Already exists in destination directory)\n",
      "Skipping: GWIS_2021/Daily/all_daily/Daily_GlobFirev3_GWIS_MCD64A1__2010.shx (Already exists in destination directory)\n",
      "Skipping: GWIS_2021/Daily/all_daily/Daily_GlobFirev3_GWIS_MCD64A1__2004.shx (Already exists in destination directory)\n",
      "Skipping: GWIS_2021/Daily/all_daily/Daily_GlobFirev3_GWIS_MCD64A1__2007.shp (Already exists in destination directory)\n",
      "Skipping: GWIS_2021/Daily/all_daily/Daily_GlobFirev3_GWIS_MCD64A1__2005.shp (Already exists in destination directory)\n",
      "Skipping: GWIS_2021/Daily/all_daily/Daily_GlobFirev3_GWIS_MCD64A1__2011.shp (Already exists in destination directory)\n",
      "Skipping: GWIS_2021/Daily/all_daily/Daily_GlobFirev3_GWIS_MCD64A1__2006.shx (Already exists in destination directory)\n",
      "Skipping: GWIS_2021/Daily/all_daily/Daily_GlobFirev3_GWIS_MCD64A1__2007.shx (Already exists in destination directory)\n",
      "Skipping: GWIS_2021/Daily/all_daily/Daily_GlobFirev3_GWIS_MCD64A1__2010.shp (Already exists in destination directory)\n",
      "Skipping: GWIS_2021/Daily/all_daily/Daily_GlobFirev3_GWIS_MCD64A1__2004.shp (Already exists in destination directory)\n",
      "Skipping: GWIS_2021/Daily/all_daily/Daily_GlobFirev3_GWIS_MCD64A1__2021.prj (Already exists in destination directory)\n",
      "Skipping: GWIS_2021/Daily/all_daily/Daily_GlobFirev3_GWIS_MCD64A1__2009.prj (Already exists in destination directory)\n",
      "Skipping: GWIS_2021/Daily/all_daily/Daily_GlobFirev3_GWIS_MCD64A1__2010.dbf (Already exists in destination directory)\n",
      "Skipping: GWIS_2021/Daily/all_daily/Daily_GlobFirev3_GWIS_MCD64A1__2004.dbf (Already exists in destination directory)\n",
      "Skipping: GWIS_2021/Daily/all_daily/Daily_GlobFirev3_GWIS_MCD64A1__2005.dbf (Already exists in destination directory)\n",
      "Skipping: GWIS_2021/Daily/all_daily/Daily_GlobFirev3_GWIS_MCD64A1__2011.dbf (Already exists in destination directory)\n",
      "Skipping: GWIS_2021/Daily/all_daily/Daily_GlobFirev3_GWIS_MCD64A1__2008.prj (Already exists in destination directory)\n",
      "Skipping: GWIS_2021/Daily/all_daily/Daily_GlobFirev3_GWIS_MCD64A1__2020.prj (Already exists in destination directory)\n",
      "Skipping: GWIS_2021/Daily/all_daily/Daily_GlobFirev3_GWIS_MCD64A1__2007.dbf (Already exists in destination directory)\n",
      "Skipping: GWIS_2021/Daily/all_daily/Daily_GlobFirev3_GWIS_MCD64A1__2006.dbf (Already exists in destination directory)\n",
      "Skipping: GWIS_2021/Daily/all_daily/Daily_GlobFirev3_GWIS_MCD64A1__2002.dbf (Already exists in destination directory)\n",
      "Skipping: GWIS_2021/Daily/all_daily/Daily_GlobFirev3_GWIS_MCD64A1__2016.dbf (Already exists in destination directory)\n",
      "Skipping: GWIS_2021/Daily/all_daily/Daily_GlobFirev3_GWIS_MCD64A1__2017.dbf (Already exists in destination directory)\n",
      "Skipping: GWIS_2021/Daily/all_daily/Daily_GlobFirev3_GWIS_MCD64A1__2003.dbf (Already exists in destination directory)\n",
      "Skipping: GWIS_2021/Daily/all_daily/Daily_GlobFirev3_GWIS_MCD64A1__2018.prj (Already exists in destination directory)\n",
      "Skipping: GWIS_2021/Daily/all_daily/Daily_GlobFirev3_GWIS_MCD64A1__2001.dbf (Already exists in destination directory)\n",
      "Skipping: GWIS_2021/Daily/all_daily/Daily_GlobFirev3_GWIS_MCD64A1__2000.dbf (Already exists in destination directory)\n",
      "Skipping: GWIS_2021/Daily/all_daily/Daily_GlobFirev3_GWIS_MCD64A1__2019.prj (Already exists in destination directory)\n",
      "Total files copied to the destination: 88\n"
     ]
    }
   ],
   "source": [
    "# Define the relative paths from the script's directory\n",
    "source_directory = os.path.join(\"GWIS_2021\", \"Daily\")  # Source directory\n",
    "destination_directory = os.path.join(\"GWIS_2021\", \"Daily\", \"all_daily\")  # Destination directory\n",
    "\n",
    "# Create the destination directory if it doesn't exist\n",
    "os.makedirs(destination_directory, exist_ok=True)\n",
    "\n",
    "# Variable to count total copied files\n",
    "total_copied_files = 0\n",
    "\n",
    "# Loop through each folder in the source directory\n",
    "for folder_name in os.listdir(source_directory):\n",
    "    folder_path = os.path.join(source_directory, folder_name)\n",
    "\n",
    "    # Check if this is a directory\n",
    "    if os.path.isdir(folder_path):\n",
    "        # Get all files in the current folder\n",
    "        files = glob.glob(os.path.join(folder_path, '*'))  # Match all files\n",
    "        \n",
    "        # Loop through each file and copy it to the destination directory\n",
    "        for file in files:\n",
    "            destination_file_path = os.path.join(destination_directory, os.path.basename(file))  # Destination path\n",
    "            \n",
    "            # If a file with the same name exists in the destination directory, skip the copying\n",
    "            if os.path.exists(destination_file_path):\n",
    "                print(f\"Skipping: {file} (Already exists in destination directory)\")\n",
    "                continue\n",
    "            \n",
    "            # Copy the file to the destination directory\n",
    "            shutil.copy(file, destination_directory)\n",
    "            total_copied_files += 1\n",
    "\n",
    "# Print a summary message\n",
    "print(f'Total files copied to the destination: {total_copied_files}')"
   ]
  },
  {
   "cell_type": "markdown",
   "metadata": {},
   "source": [
    "Combinng all the shape files and saving. "
   ]
  },
  {
   "cell_type": "code",
   "execution_count": 3,
   "metadata": {},
   "outputs": [
    {
     "ename": "",
     "evalue": "",
     "output_type": "error",
     "traceback": [
      "\u001b[1;31mThe Kernel crashed while executing code in the current cell or a previous cell. \n",
      "\u001b[1;31mPlease review the code in the cell(s) to identify a possible cause of the failure. \n",
      "\u001b[1;31mClick <a href='https://aka.ms/vscodeJupyterKernelCrash'>here</a> for more info. \n",
      "\u001b[1;31mView Jupyter <a href='command:jupyter.viewOutput'>log</a> for further details."
     ]
    }
   ],
   "source": [
    "# Define relative paths from the script's directory\n",
    "combined_shapefile_path = os.path.join(destination_directory, 'all_daily.shp')  \n",
    "\n",
    "# Use glob to find all shapefiles\n",
    "shapefiles = glob.glob(os.path.join(destination_directory, '*.shp'))\n",
    "\n",
    "# Create a list to hold the GeoDataFrames\n",
    "gdf_list = []\n",
    "\n",
    "# Read each shapefile and append it to the list with filtering\n",
    "for shapefile in shapefiles:\n",
    "    gdf = gpd.read_file(shapefile)\n",
    "    \n",
    "    # Ensure IDate is in datetime format\n",
    "    gdf['IDate'] = pd.to_datetime(gdf['IDate'], errors='coerce')  # Convert IDate to datetime\n",
    "\n",
    "    # Filter based on IDate in the range 2005 to 2015\n",
    "    filtered_gdf = gdf[(gdf['IDate'] >= '2005-01-01') & (gdf['IDate'] <= '2015-12-31')]\n",
    "    \n",
    "    # Append the filtered GeoDataFrame if non-empty\n",
    "    if not filtered_gdf.empty:\n",
    "        gdf_list.append(filtered_gdf)\n",
    "\n",
    "# Combine all GeoDataFrames into one\n",
    "if gdf_list:  # Check if the list is not empty\n",
    "    combined_gdf = gpd.GeoDataFrame(pd.concat(gdf_list, ignore_index=True))\n",
    "\n",
    "    # Save to a new shapefile\n",
    "    combined_gdf.to_file(combined_shapefile_path)\n",
    "\n",
    "    print('Successfully combined shapefiles into all_daily_2005_2015.shp')\n",
    "else:\n",
    "    print('No observations found in the specified date range.')"
   ]
  }
 ],
 "metadata": {
  "kernelspec": {
   "display_name": "Python 3",
   "language": "python",
   "name": "python3"
  },
  "language_info": {
   "codemirror_mode": {
    "name": "ipython",
    "version": 3
   },
   "file_extension": ".py",
   "mimetype": "text/x-python",
   "name": "python",
   "nbconvert_exporter": "python",
   "pygments_lexer": "ipython3",
   "version": "3.13.0"
  }
 },
 "nbformat": 4,
 "nbformat_minor": 2
}
