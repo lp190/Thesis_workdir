{
 "cells": [
  {
   "cell_type": "code",
   "execution_count": null,
   "metadata": {
    "vscode": {
     "languageId": "r"
    }
   },
   "outputs": [
    {
     "data": {
      "text/html": [
       "'/Users/lokeshpandey/Library/CloudStorage/OneDrive-stud.uni-goettingen.de/Thesis/Workdir/Scripts'"
      ],
      "text/latex": [
       "'/Users/lokeshpandey/Library/CloudStorage/OneDrive-stud.uni-goettingen.de/Thesis/Workdir/Scripts'"
      ],
      "text/markdown": [
       "'/Users/lokeshpandey/Library/CloudStorage/OneDrive-stud.uni-goettingen.de/Thesis/Workdir/Scripts'"
      ],
      "text/plain": [
       "[1] \"/Users/lokeshpandey/Library/CloudStorage/OneDrive-stud.uni-goettingen.de/Thesis/Workdir/Scripts\""
      ]
     },
     "metadata": {},
     "output_type": "display_data"
    }
   ],
   "source": []
  },
  {
   "cell_type": "code",
   "execution_count": null,
   "metadata": {
    "vscode": {
     "languageId": "r"
    }
   },
   "outputs": [],
   "source": [
    "setwd(\"../../Data/GWIS_2021/Final/all_final\")\n"
   ]
  }
 ],
 "metadata": {
  "kernelspec": {
   "display_name": "R",
   "language": "R",
   "name": "ir"
  },
  "language_info": {
   "codemirror_mode": "r",
   "file_extension": ".r",
   "mimetype": "text/x-r-source",
   "name": "R",
   "pygments_lexer": "r",
   "version": "4.4.2"
  }
 },
 "nbformat": 4,
 "nbformat_minor": 2
}
